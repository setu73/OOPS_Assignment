{
 "cells": [
  {
   "cell_type": "markdown",
   "id": "dc2bdc1f",
   "metadata": {},
   "source": [
    "# ANS 1"
   ]
  },
  {
   "cell_type": "markdown",
   "id": "8a4d9859",
   "metadata": {},
   "source": [
    "In object-oriented programming (OOPs), a class is a blueprint or a template that defines the structure, behavior, and properties of objects. It serves as a blueprint for creating instances of objects with similar characteristics and behavior. An object, on the other hand, is a specific instance of a class that represents a real-world entity or concept."
   ]
  },
  {
   "cell_type": "code",
   "execution_count": 1,
   "id": "2ff3542c",
   "metadata": {},
   "outputs": [],
   "source": [
    "class Car:\n",
    "    def __init__(self, brand, model, year):\n",
    "        self.brand = brand\n",
    "        self.model = model\n",
    "        self.year = year\n",
    "\n",
    "    def start_engine(self):\n",
    "        print(f\"The {self.brand} {self.model}'s engine has started.\")"
   ]
  },
  {
   "cell_type": "code",
   "execution_count": 2,
   "id": "fb40e993",
   "metadata": {},
   "outputs": [
    {
     "name": "stdout",
     "output_type": "stream",
     "text": [
      "Toyota\n",
      "2021\n",
      "The Toyota Camry's engine has started.\n",
      "The Honda Accord's engine has started.\n"
     ]
    }
   ],
   "source": [
    "car1 = Car(\"Toyota\", \"Camry\", 2022)\n",
    "car2 = Car(\"Honda\", \"Accord\", 2021)\n",
    "print(car1.brand) \n",
    "print(car2.year)\n",
    "\n",
    "car1.start_engine()\n",
    "car2.start_engine()"
   ]
  },
  {
   "cell_type": "markdown",
   "id": "207e1fcd",
   "metadata": {},
   "source": [
    "Here Car is a class which acts as a blueprint for creating objects like car1 and car2."
   ]
  },
  {
   "cell_type": "markdown",
   "id": "52cd5e32",
   "metadata": {},
   "source": [
    "# ANS 2"
   ]
  },
  {
   "cell_type": "markdown",
   "id": "f3a7e6a5",
   "metadata": {},
   "source": [
    "The four pillars of OOPs are Encapsulation,Inheritence,Polymorphism and Abstraction.\n",
    "\n",
    "Encapsulation: Encapsulation is the process of bundling data and methods (functions) together into a single unit called a class.\n",
    "\n",
    "Inheritance: Inheritance allows for the creation of new classes (derived or child classes) based on existing classes (base or parent classes).\n",
    "\n",
    "Polymorphism: Polymorphism means the ability of objects to exhibit different forms or behaviors based on the context. \n",
    "\n",
    "Abstraction: Abstraction refers to the process of representing complex real-world entities or concepts in a simplified manner."
   ]
  },
  {
   "cell_type": "markdown",
   "id": "5c93b8b9",
   "metadata": {},
   "source": [
    "# ANS 3"
   ]
  },
  {
   "cell_type": "markdown",
   "id": "18c52b0e",
   "metadata": {},
   "source": [
    "The __init__() function in Python is a special method that is automatically called when an object of a class is created. It is known as the constructor method and is used to initialize the attributes (properties) of an object."
   ]
  },
  {
   "cell_type": "code",
   "execution_count": 3,
   "id": "1dcc479c",
   "metadata": {},
   "outputs": [],
   "source": [
    "class Person:\n",
    "    def __init__(self, name, age):\n",
    "        self.name = name\n",
    "        self.age = age\n",
    "\n",
    "    def display_info(self):\n",
    "        print(f\"Name: {self.name}, Age: {self.age}\")"
   ]
  },
  {
   "cell_type": "code",
   "execution_count": 4,
   "id": "fb04f8d2",
   "metadata": {},
   "outputs": [
    {
     "name": "stdout",
     "output_type": "stream",
     "text": [
      "John\n",
      "25\n",
      "Name: John, Age: 25\n"
     ]
    }
   ],
   "source": [
    "person1 = Person(\"John\", 25)\n",
    "\n",
    "print(person1.name)\n",
    "print(person1.age)  \n",
    "\n",
    "person1.display_info()\n"
   ]
  },
  {
   "cell_type": "markdown",
   "id": "8862d38d",
   "metadata": {},
   "source": [
    "# ANS 4"
   ]
  },
  {
   "cell_type": "markdown",
   "id": "5ddb041e",
   "metadata": {},
   "source": [
    "In object-oriented programming (OOPs), the self parameter is used as a reference to the instance of a class. It is a convention in Python (though the name can be changed) to refer to the current object within a class. The self parameter allows methods within a class to access and manipulate the attributes and methods of that specific instance."
   ]
  },
  {
   "cell_type": "markdown",
   "id": "6ea33a90",
   "metadata": {},
   "source": [
    "# ANS 5"
   ]
  },
  {
   "cell_type": "markdown",
   "id": "121588a3",
   "metadata": {},
   "source": [
    "Inheritance is a fundamental concept in object-oriented programming (OOPs) that allows the creation of new classes (derived or child classes) based on existing classes (base or parent classes). It enables the derived classes to inherit the properties, methods, and characteristics of the base class, promoting code reuse, modularity, and the establishment of hierarchical relationships."
   ]
  },
  {
   "cell_type": "code",
   "execution_count": 5,
   "id": "b787a58e",
   "metadata": {},
   "outputs": [],
   "source": [
    "# Single inheritence\n",
    "class Animal:\n",
    "    def eat(self):\n",
    "        print(\"Animal is eating.\")\n",
    "\n",
    "class Dog(Animal):\n",
    "    def bark(self):\n",
    "        print(\"Dog is barking.\")"
   ]
  },
  {
   "cell_type": "code",
   "execution_count": 6,
   "id": "81f26d32",
   "metadata": {},
   "outputs": [
    {
     "name": "stdout",
     "output_type": "stream",
     "text": [
      "Animal is eating.\n",
      "Dog is barking.\n"
     ]
    }
   ],
   "source": [
    "dog = Dog()\n",
    "dog.eat() \n",
    "dog.bark() "
   ]
  },
  {
   "cell_type": "code",
   "execution_count": 7,
   "id": "8e23d626",
   "metadata": {},
   "outputs": [],
   "source": [
    "# Multipe Inheritence\n",
    "class Car:\n",
    "    def drive(self):\n",
    "        print(\"Car is driving.\")\n",
    "\n",
    "class Electric:\n",
    "    def charge(self):\n",
    "        print(\"Car is charging.\")\n",
    "\n",
    "# Derived class\n",
    "class ElectricCar(Car, Electric):\n",
    "    pass"
   ]
  },
  {
   "cell_type": "code",
   "execution_count": 8,
   "id": "8968a1d8",
   "metadata": {},
   "outputs": [
    {
     "name": "stdout",
     "output_type": "stream",
     "text": [
      "Car is driving.\n",
      "Car is charging.\n"
     ]
    }
   ],
   "source": [
    "electric_car = ElectricCar()\n",
    "electric_car.drive()   \n",
    "electric_car.charge()"
   ]
  },
  {
   "cell_type": "code",
   "execution_count": 9,
   "id": "2179fa01",
   "metadata": {},
   "outputs": [],
   "source": [
    "# Multi Level Inheritence\n",
    "class Animal:\n",
    "    def eat(self):\n",
    "        print(\"Animal is eating.\")\n",
    "\n",
    "class Dog(Animal):\n",
    "    def bark(self):\n",
    "        print(\"Dog is barking.\")\n",
    "\n",
    "\n",
    "class Bulldog(Dog):\n",
    "    def guard(self):\n",
    "        print(\"Bulldog is guarding.\")"
   ]
  },
  {
   "cell_type": "code",
   "execution_count": 10,
   "id": "c8fdf149",
   "metadata": {},
   "outputs": [
    {
     "name": "stdout",
     "output_type": "stream",
     "text": [
      "Animal is eating.\n",
      "Dog is barking.\n",
      "Bulldog is guarding.\n"
     ]
    }
   ],
   "source": [
    "bulldog = Bulldog()\n",
    "bulldog.eat()   \n",
    "bulldog.bark()   \n",
    "bulldog.guard()"
   ]
  },
  {
   "cell_type": "code",
   "execution_count": null,
   "id": "66031fd1",
   "metadata": {},
   "outputs": [],
   "source": []
  }
 ],
 "metadata": {
  "kernelspec": {
   "display_name": "Python 3 (ipykernel)",
   "language": "python",
   "name": "python3"
  },
  "language_info": {
   "codemirror_mode": {
    "name": "ipython",
    "version": 3
   },
   "file_extension": ".py",
   "mimetype": "text/x-python",
   "name": "python",
   "nbconvert_exporter": "python",
   "pygments_lexer": "ipython3",
   "version": "3.11.2"
  }
 },
 "nbformat": 4,
 "nbformat_minor": 5
}
